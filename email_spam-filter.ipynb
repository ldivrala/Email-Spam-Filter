{
 "cells": [
  {
   "cell_type": "code",
   "execution_count": 70,
   "id": "edc33421",
   "metadata": {},
   "outputs": [],
   "source": [
    "import numpy as np\n",
    "import pandas as pd\n",
    "import glob\n",
    "import re\n",
    "from sklearn.utils import shuffle\n",
    "import torch\n",
    "import torch.nn.functional as F\n",
    "import torch.nn as nn\n",
    "from sklearn.metrics import confusion_matrix, f1_score\n",
    "import torch.optim as optim\n",
    "from sklearn.model_selection import train_test_split\n"
   ]
  },
  {
   "cell_type": "code",
   "execution_count": 71,
   "id": "097b9920",
   "metadata": {},
   "outputs": [
    {
     "data": {
      "text/plain": [
       "(21103, 19088)"
      ]
     },
     "execution_count": 71,
     "metadata": {},
     "output_type": "execute_result"
    }
   ],
   "source": [
    "hamDirs = pd.Series(np.array(glob.glob('datasets/email/ham/*/*/*')))\n",
    "spamDirs = pd.Series(np.array(glob.glob('datasets/email/spam/*/*/*')))\n",
    "\n",
    "len(spamDirs), len(hamDirs)"
   ]
  },
  {
   "cell_type": "code",
   "execution_count": 72,
   "id": "58f49baf",
   "metadata": {},
   "outputs": [],
   "source": [
    "# For Header Filter\n",
    "\n",
    "mailHeaders = [\"received\", 'mime-version', 'reply-to',\n",
    "             \"date\", \"content-transfer-encoding\", \"message-id\", \"x-from\", \"x-to\", \"x-cc\", \"x-bcc\",\n",
    "             \"x-origin\", \"x-filename\", \"x-priority\", \"x-msmail-priority\", \"organization\", \"x-mailer\"]\n",
    "\n",
    "EmailHeaderRegex = \"from:\\s(?P<from>.*)?[^^]*subject:\\s(?P<subject>.*)?[^^]*content-type:\\s(?P<content_type>.*)?\""
   ]
  },
  {
   "cell_type": "code",
   "execution_count": 73,
   "id": "451af88e",
   "metadata": {},
   "outputs": [],
   "source": [
    "# Extract Mail\n",
    "\n",
    "def getContent(filePath):\n",
    "    \n",
    "    with open(filePath, encoding='windows-1252') as f:\n",
    "        contents = f.read()\n",
    "        contents = contents.lower()\n",
    "        contents = re.sub(\"<[^<>]+>\", \" __tag__ \", contents)\n",
    "        contents = re.sub(\"[0-9]+\", \"number\", contents)\n",
    "        contents = re.sub(\"(http|https)://[^\\s]*\", \"httpaddr\", contents)\n",
    "        contents = re.sub(\"[^\\s]+@[^\\s]+\", \"emailaddr\", contents)\n",
    "        contents = re.sub(\"[$]+\", \"dollar\", contents)\n",
    "        contents = re.sub(\"(\" + \":|\".join(mailHeaders)  + \")+\", \"header:\", contents)\n",
    "        \n",
    "    emailHeaderParts = re.findall(EmailHeaderRegex, contents)\n",
    "    (emailFrom, subject, content_type) = emailHeaderParts[0] if len(emailHeaderParts) else (\"\", \"\", \"\") \n",
    "    \n",
    "    __SEPERATOR__ = \" __SEPERATOR__ \"\n",
    "    bodyRegex = \"(?:[^^]*)(?:header\\s*:.*\\n)([^^]*)\"  \n",
    "    body = re.findall(bodyRegex, contents)\n",
    "    body = body[0] if len(body) else \"\"\n",
    "    \n",
    "    \n",
    "    mailMessage = re.split(\"-----original message-----\", contents)[0]\n",
    "    content = emailFrom + __SEPERATOR__ + subject + __SEPERATOR__ + content_type + __SEPERATOR__ + \"\\n\" + body\n",
    "    \n",
    "    contentSeries = pd.Series([filePath, content, body, emailFrom, subject, content_type], \n",
    "                              index=[\"filePath\", \"content\", \"body\", \"from\", \"subject\", \"content_type\"]);\n",
    "    \n",
    "    return contentSeries"
   ]
  },
  {
   "cell_type": "code",
   "execution_count": 74,
   "id": "51def9cc",
   "metadata": {},
   "outputs": [],
   "source": [
    "hamDf = hamDirs[:700].apply(getContent)\n",
    "spamDf = spamDirs[:700].apply(getContent)\n",
    "hamDf[\"label\"] = 0\n",
    "spamDf[\"label\"] = 1\n",
    "\n",
    "# Setup Mail Dataset\n",
    "datasetDf = pd.concat([hamDf, spamDf], axis = 0, ignore_index = True)\n",
    "datasetDf = shuffle(datasetDf, random_state= 0)\n",
    "datasetDf.to_csv(\"datasets/email/email.csv\", index = False)"
   ]
  },
  {
   "cell_type": "code",
   "execution_count": 75,
   "id": "74fb694a",
   "metadata": {},
   "outputs": [],
   "source": [
    "# Genarate Vocab\n",
    "from torchtext.vocab import vocab\n",
    "from torchtext.data.utils import get_tokenizer\n",
    "from torchtext.vocab import build_vocab_from_iterator\n",
    "\n",
    "tokenizer = get_tokenizer('basic_english')\n",
    "train_iter = datasetDf[\"content\"].to_numpy()\n",
    "\n",
    "def yield_tokens(data_iter):\n",
    "    for content in data_iter:\n",
    "        yield tokenizer(content)\n",
    "\n",
    "vocab = build_vocab_from_iterator(yield_tokens(train_iter), specials=[\"<unk>\"])\n",
    "vocab.set_default_index(vocab[\"<unk>\"])"
   ]
  },
  {
   "cell_type": "code",
   "execution_count": 76,
   "id": "6873c78c",
   "metadata": {},
   "outputs": [],
   "source": [
    "# Tokenization\n",
    "def preprocessData(dfS):\n",
    "    content = dfS[\"content\"]\n",
    "    tokenizer(content)\n",
    "    tokensIdx = vocab(tokenizer(content))\n",
    "    \n",
    "    tokens = np.zeros(len(vocab), dtype=\"int64\")\n",
    "    \n",
    "    tokens[tokensIdx] = 1\n",
    "    \n",
    "    tokens = tokens.tolist()\n",
    "    data = pd.Series([dfS[\"filePath\"], tokens], index = [\"file\", \"tokens\"])\n",
    "    \n",
    "    return data"
   ]
  },
  {
   "cell_type": "code",
   "execution_count": 77,
   "id": "e40fc85a",
   "metadata": {},
   "outputs": [],
   "source": [
    "dataset_tokens_df = datasetDf.apply(preprocessData, axis =1)\n",
    "dataset_tokens_df[\"label\"] = datasetDf[\"label\"]\n",
    "# dataset_tokens_df[\"tokens\"] = dataset_tokens_df[\"tokens\"].apply(lambda x: \"|\".join(map(str, x)))\n",
    "# dataset_tokens_df.to_csv(\"datasets/email/emailTokens.csv\", index = False)\n"
   ]
  },
  {
   "cell_type": "code",
   "execution_count": 78,
   "id": "325ab155",
   "metadata": {},
   "outputs": [],
   "source": [
    "X = np.array(dataset_tokens_df[\"tokens\"].to_list())\n",
    "Y = dataset_tokens_df[\"label\"].values\n",
    "\n",
    "\n",
    "X_train, X_test, y_train, y_test = train_test_split( X, Y, test_size=0.2, random_state=0)"
   ]
  },
  {
   "cell_type": "code",
   "execution_count": 79,
   "id": "5f57baf1",
   "metadata": {},
   "outputs": [],
   "source": [
    "model = nn.Sequential(\n",
    "    nn.Linear(X.shape[1], 20), \n",
    "    \n",
    "    nn.ReLU(),\n",
    "    nn.Linear(20, 1),\n",
    "    nn.Sigmoid()\n",
    ")\n",
    "optimizer = optim.SGD(model.parameters(), lr=0.1)\n",
    "loss_fn = nn.BCELoss()"
   ]
  },
  {
   "cell_type": "code",
   "execution_count": 80,
   "id": "f40cd1a3",
   "metadata": {},
   "outputs": [],
   "source": [
    "\n",
    "def train(X, Y, epoches):\n",
    "    X = torch.FloatTensor(X)\n",
    "    Y = torch.FloatTensor(Y)\n",
    "    N = len(Y)\n",
    "    model.train()\n",
    "    \n",
    "    sum_loss = 0\n",
    "    for epoch in range(epoches):\n",
    "        \n",
    "        optimizer.zero_grad()\n",
    "        output = model(X).squeeze()\n",
    "        loss = loss_fn(output, Y)\n",
    "        \n",
    "        loss.backward()\n",
    "        optimizer.step()\n",
    "\n",
    "        sum_loss += float(loss)\n",
    "    \n",
    "    print(\"Epoch: {:4d}\\tloss: {}\".format(epoch, sum_loss / N))\n",
    "    \n",
    "    \n"
   ]
  },
  {
   "cell_type": "code",
   "execution_count": 81,
   "id": "5e325c92",
   "metadata": {},
   "outputs": [],
   "source": [
    "def test(X, Y):\n",
    "    X = torch.FloatTensor(X)\n",
    "    Y = torch.FloatTensor(Y)\n",
    "    N = len(Y)\n",
    "    model.eval()\n",
    "    sum_loss = 0\n",
    "    \n",
    "    with torch.no_grad():\n",
    "        output = model(X).squeeze()\n",
    "        \n",
    "        loss = loss_fn(output, Y)\n",
    "        \n",
    "        sum_loss += float(loss)\n",
    "    \n",
    "    print(\"loss: {}\".format(sum_loss / N))"
   ]
  },
  {
   "cell_type": "code",
   "execution_count": 82,
   "id": "a3f06d40",
   "metadata": {},
   "outputs": [],
   "source": [
    "def predict(X):\n",
    "    y_pred = (model(torch.FloatTensor(X)).squeeze().detach().numpy() > 0.5).astype(\"int64\")\n",
    "    return y_pred"
   ]
  },
  {
   "cell_type": "code",
   "execution_count": 83,
   "id": "c52c1b2a",
   "metadata": {},
   "outputs": [
    {
     "name": "stdout",
     "output_type": "stream",
     "text": [
      "Epoch:  799\tloss: 0.025565710051367724\n"
     ]
    }
   ],
   "source": [
    "train(X_train, y_train, 800)"
   ]
  },
  {
   "cell_type": "code",
   "execution_count": 84,
   "id": "04a22c7c",
   "metadata": {},
   "outputs": [
    {
     "name": "stdout",
     "output_type": "stream",
     "text": [
      "loss: 5.030113139322826e-05\n"
     ]
    }
   ],
   "source": [
    "test(X_test, y_test)"
   ]
  },
  {
   "cell_type": "code",
   "execution_count": 85,
   "id": "9019e83b",
   "metadata": {},
   "outputs": [
    {
     "data": {
      "text/plain": [
       "(array([[137,   0],\n",
       "        [  2, 141]]),\n",
       " 0.9929577464788732)"
      ]
     },
     "execution_count": 85,
     "metadata": {},
     "output_type": "execute_result"
    }
   ],
   "source": [
    "y_pred = predict(X_test)\n",
    "confusion_matrix(y_test, y_pred), f1_score(y_test, y_pred)"
   ]
  },
  {
   "cell_type": "code",
   "execution_count": 86,
   "id": "543847a4",
   "metadata": {},
   "outputs": [
    {
     "data": {
      "text/plain": [
       "array([[563,   0],\n",
       "       [  0, 557]])"
      ]
     },
     "execution_count": 86,
     "metadata": {},
     "output_type": "execute_result"
    }
   ],
   "source": [
    "y_pred = predict(X_train)\n",
    "confusion_matrix(y_train, y_pred)"
   ]
  },
  {
   "cell_type": "code",
   "execution_count": 87,
   "id": "a2e5abfa",
   "metadata": {},
   "outputs": [],
   "source": [
    "hamDf2 = hamDirs[700:900].apply(getContent)\n",
    "spamDf2 = spamDirs[700:800].apply(getContent)\n",
    "hamDf2[\"label\"] = 0\n",
    "spamDf2[\"label\"] = 1\n",
    "\n",
    "datasetDf2 = pd.concat([hamDf2, spamDf2], axis = 0, ignore_index = True)\n",
    "datasetDf2 = shuffle(datasetDf2, random_state= 0)\n",
    "\n",
    "dataset_tokens_df2 = datasetDf2.apply(preprocessData, axis =1)\n",
    "dataset_tokens_df2[\"label\"] = datasetDf2[\"label\"]"
   ]
  },
  {
   "cell_type": "code",
   "execution_count": 88,
   "id": "e90c6095",
   "metadata": {},
   "outputs": [],
   "source": [
    "X2 = np.array(dataset_tokens_df2[\"tokens\"].to_list())\n",
    "Y2 = dataset_tokens_df2[\"label\"].values\n",
    "\n",
    "X_train2, X_test2, y_train2, y_test2 = train_test_split( X2, Y2, test_size=0.2, random_state=0)"
   ]
  },
  {
   "cell_type": "code",
   "execution_count": 89,
   "id": "ccc28ff1",
   "metadata": {},
   "outputs": [
    {
     "name": "stdout",
     "output_type": "stream",
     "text": [
      "1.0\n"
     ]
    },
    {
     "data": {
      "text/plain": [
       "array([[32,  0],\n",
       "       [ 0, 28]])"
      ]
     },
     "execution_count": 89,
     "metadata": {},
     "output_type": "execute_result"
    }
   ],
   "source": [
    "y_pred = predict(X_test2)\n",
    "print(f1_score(y_test2, y_pred))\n",
    "\n",
    "confusion_matrix(y_test2, y_pred)"
   ]
  },
  {
   "cell_type": "code",
   "execution_count": 90,
   "id": "c3fd95f0",
   "metadata": {},
   "outputs": [
    {
     "name": "stdout",
     "output_type": "stream",
     "text": [
      "1.0\n"
     ]
    },
    {
     "data": {
      "text/plain": [
       "array([[168,   0],\n",
       "       [  0,  72]])"
      ]
     },
     "execution_count": 90,
     "metadata": {},
     "output_type": "execute_result"
    }
   ],
   "source": [
    "y_pred = predict(X_train2)\n",
    "print(f1_score(y_train2, y_pred))\n",
    "confusion_matrix(y_train2, y_pred)"
   ]
  }
 ],
 "metadata": {
  "kernelspec": {
   "display_name": "Python 3",
   "language": "python",
   "name": "python3"
  },
  "language_info": {
   "codemirror_mode": {
    "name": "ipython",
    "version": 3
   },
   "file_extension": ".py",
   "mimetype": "text/x-python",
   "name": "python",
   "nbconvert_exporter": "python",
   "pygments_lexer": "ipython3",
   "version": "3.8.10"
  }
 },
 "nbformat": 4,
 "nbformat_minor": 5
}
