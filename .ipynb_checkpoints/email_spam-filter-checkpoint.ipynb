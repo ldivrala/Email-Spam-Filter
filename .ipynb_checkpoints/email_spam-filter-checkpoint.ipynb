{
 "cells": [
  {
   "cell_type": "code",
   "execution_count": 2,
   "id": "edc33421",
   "metadata": {},
   "outputs": [],
   "source": [
    "import numpy as np\n",
    "import pandas as pd\n",
    "import glob\n",
    "import re\n",
    "from sklearn.utils import shuffle\n",
    "from torchtext.vocab import vocab\n",
    "import torch\n",
    "import torch.nn.functional as F\n",
    "import torch.nn as nn\n",
    "from sklearn.metrics import confusion_matrix"
   ]
  },
  {
   "cell_type": "code",
   "execution_count": 3,
   "id": "097b9920",
   "metadata": {},
   "outputs": [],
   "source": [
    "hamDirs = pd.Series(np.array(glob.glob('datasets/email/ham/*/*/*')))\n",
    "spamDirs = pd.Series(np.array(glob.glob('datasets/email/spam/*/*/*')))"
   ]
  },
  {
   "cell_type": "code",
   "execution_count": 5,
   "id": "4f840348",
   "metadata": {},
   "outputs": [],
   "source": [
    "mailHeaders = [\"received\", 'mime-version', 'reply-to',\n",
    "             \"date\", \"content-transfer-encoding\", \"message-id\", \"x-from\", \"x-to\", \"x-cc\", \"x-bcc\",\n",
    "             \"x-origin\", \"x-filename\", \"x-priority\", \"x-msmail-priority\", \"organization\", \"x-mailer\"]"
   ]
  },
  {
   "cell_type": "code",
   "execution_count": null,
   "id": "451af88e",
   "metadata": {},
   "outputs": [],
   "source": []
  }
 ],
 "metadata": {
  "kernelspec": {
   "display_name": "Python 3",
   "language": "python",
   "name": "python3"
  },
  "language_info": {
   "codemirror_mode": {
    "name": "ipython",
    "version": 3
   },
   "file_extension": ".py",
   "mimetype": "text/x-python",
   "name": "python",
   "nbconvert_exporter": "python",
   "pygments_lexer": "ipython3",
   "version": "3.8.10"
  }
 },
 "nbformat": 4,
 "nbformat_minor": 5
}
